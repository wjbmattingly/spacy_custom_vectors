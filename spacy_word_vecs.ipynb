{
 "cells": [
  {
   "cell_type": "code",
   "execution_count": 1,
   "id": "pressing-prisoner",
   "metadata": {},
   "outputs": [
    {
     "name": "stdout",
     "output_type": "stream",
     "text": [
      "INFO:tensorflow:Enabling eager execution\n",
      "INFO:tensorflow:Enabling v2 tensorshape\n",
      "INFO:tensorflow:Enabling resource variables\n",
      "INFO:tensorflow:Enabling tensor equality\n",
      "INFO:tensorflow:Enabling control flow v2\n"
     ]
    }
   ],
   "source": [
    "import spacy"
   ]
  },
  {
   "cell_type": "code",
   "execution_count": 3,
   "id": "separated-store",
   "metadata": {},
   "outputs": [
    {
     "name": "stdout",
     "output_type": "stream",
     "text": [
      "[i] Creating blank nlp object for language 'en'\n",
      "[+] Successfully converted 32546 vectors\n",
      "[+] Saved nlp object with vectors to output directory. You can now use the path\n",
      "to it in your config as the 'vectors' setting in [initialize].\n",
      "C:\\Users\\wma22\\OneDrive\\Projects\\spacy_custom_vectors\\models\\01\n"
     ]
    },
    {
     "name": "stderr",
     "output_type": "stream",
     "text": [
      "2021-09-20 13:56:31.937486: I tensorflow/stream_executor/platform/default/dso_loader.cc:49] Successfully opened dynamic library cudart64_110.dll\n",
      "[2021-09-20 13:56:35,147] [INFO] Reading vectors from data\\word_vectors.txt\n",
      "\n",
      "0it [00:00, ?it/s]\n",
      "1470it [00:00, 14593.44it/s]\n",
      "2973it [00:00, 14786.13it/s]\n",
      "4483it [00:00, 14879.37it/s]\n",
      "5986it [00:00, 14895.81it/s]\n",
      "7476it [00:00, 14700.95it/s]\n",
      "8947it [00:00, 14666.28it/s]\n",
      "10430it [00:00, 14684.72it/s]\n",
      "11921it [00:00, 14723.32it/s]\n",
      "13408it [00:00, 14734.02it/s]\n",
      "14918it [00:01, 14812.59it/s]\n",
      "16473it [00:01, 15003.73it/s]\n",
      "17982it [00:01, 14996.95it/s]\n",
      "19514it [00:01, 15062.58it/s]\n",
      "21063it [00:01, 15156.20it/s]\n",
      "22604it [00:01, 15199.10it/s]\n",
      "24124it [00:01, 15077.75it/s]\n",
      "25632it [00:01, 14654.70it/s]\n",
      "27100it [00:01, 14379.57it/s]\n",
      "28541it [00:01, 14033.07it/s]\n",
      "29947it [00:02, 13812.03it/s]\n",
      "31330it [00:02, 13632.80it/s]\n",
      "32546it [00:02, 14522.95it/s]\n",
      "[2021-09-20 13:56:37,392] [INFO] Loaded vectors from data\\word_vectors.txt\n"
     ]
    }
   ],
   "source": [
    "!python -m spacy init vectors en data/word_vectors.txt models/01 --name en_test"
   ]
  },
  {
   "cell_type": "code",
   "execution_count": 5,
   "id": "juvenile-pension",
   "metadata": {},
   "outputs": [],
   "source": [
    "nlp = spacy.load(\"models/01\")"
   ]
  },
  {
   "cell_type": "code",
   "execution_count": 6,
   "id": "remarkable-proceeding",
   "metadata": {},
   "outputs": [
    {
     "data": {
      "text/plain": [
       "<spacy.pipeline.ner.EntityRecognizer at 0x25311ea6100>"
      ]
     },
     "execution_count": 6,
     "metadata": {},
     "output_type": "execute_result"
    }
   ],
   "source": [
    "nlp.add_pipe(\"ner\")"
   ]
  },
  {
   "cell_type": "code",
   "execution_count": 7,
   "id": "african-spank",
   "metadata": {},
   "outputs": [],
   "source": [
    "nlp.to_disk(\"models/01\")"
   ]
  },
  {
   "cell_type": "code",
   "execution_count": 8,
   "id": "coordinated-indian",
   "metadata": {},
   "outputs": [
    {
     "name": "stdout",
     "output_type": "stream",
     "text": [
      "[i] Using CPU\n",
      "\u001b[1m\n",
      "=========================== Initializing pipeline ===========================\u001b[0m\n",
      "[+] Initialized pipeline\n",
      "\u001b[1m\n",
      "============================= Training pipeline =============================\u001b[0m\n",
      "[i] Pipeline: ['ner']\n",
      "[i] Initial learn rate: 0.001\n",
      "E    #       LOSS NER  ENTS_F  ENTS_P  ENTS_R  SCORE \n",
      "---  ------  --------  ------  ------  ------  ------\n",
      "  0       0     38.30    0.00    0.00    0.00    0.00\n",
      "  0     200    886.99    0.00    0.00    0.00    0.00\n",
      "  0     400    166.98    0.00    0.00    0.00    0.00\n",
      "  1     600     69.78    0.00    0.00    0.00    0.00\n",
      "  1     800     45.14    0.00    0.00    0.00    0.00\n",
      "  2    1000     35.75    0.00    0.00    0.00    0.00\n",
      "  2    1200     35.61    0.00    0.00    0.00    0.00\n",
      "  3    1400     35.98    0.00    0.00    0.00    0.00\n",
      "  5    1600     20.86    0.00    0.00    0.00    0.00\n",
      "[+] Saved pipeline to output directory\n",
      "models\\02\\model-last\n"
     ]
    },
    {
     "name": "stderr",
     "output_type": "stream",
     "text": [
      "2021-09-20 13:58:34.086837: I tensorflow/stream_executor/platform/default/dso_loader.cc:49] Successfully opened dynamic library cudart64_110.dll\n",
      "[2021-09-20 13:58:37,346] [INFO] Set up nlp object from config\n",
      "[2021-09-20 13:58:37,352] [INFO] Pipeline: ['ner']\n",
      "[2021-09-20 13:58:37,354] [INFO] Created vocabulary\n",
      "[2021-09-20 13:58:37,634] [INFO] Added vectors: models/01\n",
      "[2021-09-20 13:58:37,695] [INFO] Finished initializing nlp object\n",
      "[2021-09-20 13:58:38,853] [INFO] Initialized pipeline components: ['ner']\n"
     ]
    }
   ],
   "source": [
    "!python -m spacy train models/01/config.cfg --output models/02 --paths.train data/train.spacy --paths.dev data/valid.spacy --paths.vectors models/01"
   ]
  },
  {
   "cell_type": "code",
   "execution_count": null,
   "id": "turkish-romantic",
   "metadata": {},
   "outputs": [],
   "source": []
  }
 ],
 "metadata": {
  "kernelspec": {
   "display_name": "Python 3",
   "language": "python",
   "name": "python3"
  },
  "language_info": {
   "codemirror_mode": {
    "name": "ipython",
    "version": 3
   },
   "file_extension": ".py",
   "mimetype": "text/x-python",
   "name": "python",
   "nbconvert_exporter": "python",
   "pygments_lexer": "ipython3",
   "version": "3.9.2"
  }
 },
 "nbformat": 4,
 "nbformat_minor": 5
}
