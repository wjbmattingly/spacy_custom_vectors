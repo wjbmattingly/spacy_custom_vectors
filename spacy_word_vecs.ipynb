{
 "cells": [
  {
   "cell_type": "code",
   "execution_count": 9,
   "id": "theoretical-checklist",
   "metadata": {},
   "outputs": [],
   "source": [
    "import spacy"
   ]
  },
  {
   "cell_type": "code",
   "execution_count": 10,
   "id": "controlled-investing",
   "metadata": {},
   "outputs": [
    {
     "name": "stdout",
     "output_type": "stream",
     "text": [
      "[i] Creating blank nlp object for language 'en'\n",
      "[+] Successfully converted 32546 vectors\n",
      "[+] Saved nlp object with vectors to output directory. You can now use the path\n",
      "to it in your config as the 'vectors' setting in [initialize].\n",
      "C:\\Users\\wma22\\OneDrive\\Projects\\spacy_custom_vectors\\models\\01\n"
     ]
    },
    {
     "name": "stderr",
     "output_type": "stream",
     "text": [
      "2021-09-20 14:46:55.949493: I tensorflow/stream_executor/platform/default/dso_loader.cc:49] Successfully opened dynamic library cudart64_110.dll\n",
      "[2021-09-20 14:46:59,489] [INFO] Reading vectors from data\\word_vectors.txt\n",
      "\n",
      "0it [00:00, ?it/s]\n",
      "20643it [00:00, 204789.65it/s]\n",
      "32546it [00:00, 209093.30it/s]\n",
      "[2021-09-20 14:46:59,650] [INFO] Loaded vectors from data\\word_vectors.txt\n"
     ]
    }
   ],
   "source": [
    "!python -m spacy init vectors en data/word_vectors.txt models/01 --name en_test"
   ]
  },
  {
   "cell_type": "code",
   "execution_count": 11,
   "id": "fuzzy-conflict",
   "metadata": {},
   "outputs": [],
   "source": [
    "nlp = spacy.load(\"models/01\")"
   ]
  },
  {
   "cell_type": "code",
   "execution_count": 12,
   "id": "decimal-proposal",
   "metadata": {},
   "outputs": [
    {
     "data": {
      "text/plain": [
       "<spacy.pipeline.ner.EntityRecognizer at 0x2535fc83be0>"
      ]
     },
     "execution_count": 12,
     "metadata": {},
     "output_type": "execute_result"
    }
   ],
   "source": [
    "nlp.add_pipe(\"ner\")"
   ]
  },
  {
   "cell_type": "code",
   "execution_count": 13,
   "id": "initial-reggae",
   "metadata": {},
   "outputs": [],
   "source": [
    "nlp.to_disk(\"models/01\")"
   ]
  },
  {
   "cell_type": "code",
   "execution_count": null,
   "id": "confused-outside",
   "metadata": {},
   "outputs": [],
   "source": [
    "!python -m spacy train models/01/config.cfg --output models/02 --paths.train data/train.spacy --paths.dev data/valid.spacy --paths.vectors models/01"
   ]
  },
  {
   "cell_type": "code",
   "execution_count": null,
   "id": "veterinary-poker",
   "metadata": {},
   "outputs": [],
   "source": []
  }
 ],
 "metadata": {
  "kernelspec": {
   "display_name": "Python 3",
   "language": "python",
   "name": "python3"
  },
  "language_info": {
   "codemirror_mode": {
    "name": "ipython",
    "version": 3
   },
   "file_extension": ".py",
   "mimetype": "text/x-python",
   "name": "python",
   "nbconvert_exporter": "python",
   "pygments_lexer": "ipython3",
   "version": "3.9.2"
  }
 },
 "nbformat": 4,
 "nbformat_minor": 5
}
