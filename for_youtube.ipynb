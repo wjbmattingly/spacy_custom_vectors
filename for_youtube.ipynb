{
 "cells": [
  {
   "cell_type": "code",
   "execution_count": 3,
   "id": "ahead-hartford",
   "metadata": {},
   "outputs": [],
   "source": [
    "import spacy"
   ]
  },
  {
   "cell_type": "code",
   "execution_count": 4,
   "id": "great-closure",
   "metadata": {},
   "outputs": [
    {
     "name": "stdout",
     "output_type": "stream",
     "text": [
      "[i] Creating blank nlp object for language 'en'\n",
      "[+] Successfully converted 32546 vectors\n",
      "[+] Saved nlp object with vectors to output directory. You can now use the path\n",
      "to it in your config as the 'vectors' setting in [initialize]."
     ]
    },
    {
     "name": "stderr",
     "output_type": "stream",
     "text": [
      "2021-09-20 17:01:33.963492: I tensorflow/stream_executor/platform/default/dso_loader.cc:49] Successfully opened dynamic library cudart64_110.dll\n",
      "[2021-09-20 17:01:45,039] [INFO] Reading vectors from data\\word_vectors.txt\n",
      "\n",
      "0it [00:00, ?it/s]\n",
      "15346it [00:00, 152353.36it/s]\n",
      "30595it [00:00, 151779.06it/s]\n",
      "32546it [00:00, 151783.63it/s]\n",
      "[2021-09-20 17:01:45,258] [INFO] Loaded vectors from data\\word_vectors.txt\n"
     ]
    },
    {
     "name": "stdout",
     "output_type": "stream",
     "text": [
      "\n",
      "C:\\Users\\wma22\\OneDrive\\Projects\\spacy_custom_vectors\\models\\01\n"
     ]
    }
   ],
   "source": [
    "!python -m spacy init vectors en data/word_vectors.txt models/01 --name en_test"
   ]
  },
  {
   "cell_type": "code",
   "execution_count": 5,
   "id": "grateful-click",
   "metadata": {},
   "outputs": [],
   "source": [
    "nlp = spacy.load(\"models/01\")"
   ]
  },
  {
   "cell_type": "code",
   "execution_count": 6,
   "id": "radio-custody",
   "metadata": {},
   "outputs": [
    {
     "data": {
      "text/plain": [
       "<spacy.pipeline.ner.EntityRecognizer at 0x1f1acf3a460>"
      ]
     },
     "execution_count": 6,
     "metadata": {},
     "output_type": "execute_result"
    }
   ],
   "source": [
    "nlp.add_pipe(\"ner\")"
   ]
  },
  {
   "cell_type": "code",
   "execution_count": 7,
   "id": "modern-poster",
   "metadata": {},
   "outputs": [],
   "source": [
    "nlp.to_disk(\"models/01\")"
   ]
  },
  {
   "cell_type": "code",
   "execution_count": 8,
   "id": "organized-three",
   "metadata": {},
   "outputs": [
    {
     "name": "stdout",
     "output_type": "stream",
     "text": [
      "[i] Using CPU\n",
      "\u001b[1m\n",
      "=========================== Initializing pipeline ===========================\u001b[0m\n",
      "[+] Initialized pipeline\n",
      "\u001b[1m\n",
      "============================= Training pipeline =============================\u001b[0m\n",
      "[i] Pipeline: ['ner']\n",
      "[i] Initial learn rate: 0.001\n",
      "E    #       LOSS NER  ENTS_F  ENTS_P  ENTS_R  SCORE \n",
      "---  ------  --------  ------  ------  ------  ------\n",
      "  0       0     38.30    0.00    0.00    0.00    0.00\n",
      "  0     200    886.99    0.00    0.00    0.00    0.00\n",
      "  0     400    166.98    0.00    0.00    0.00    0.00\n",
      "  1     600     69.78    0.00    0.00    0.00    0.00\n",
      "  1     800     45.14    0.00    0.00    0.00    0.00\n",
      "  2    1000     35.75    0.00    0.00    0.00    0.00\n",
      "  2    1200     35.61    0.00    0.00    0.00    0.00\n",
      "  3    1400     35.98    0.00    0.00    0.00    0.00\n",
      "  5    1600     20.86    0.00    0.00    0.00    0.00\n",
      "[+] Saved pipeline to output directory\n",
      "models\\02\\model-last\n"
     ]
    },
    {
     "name": "stderr",
     "output_type": "stream",
     "text": [
      "2021-09-20 17:06:22.625872: I tensorflow/stream_executor/platform/default/dso_loader.cc:49] Successfully opened dynamic library cudart64_110.dll\n",
      "[2021-09-20 17:06:32,279] [INFO] Set up nlp object from config\n",
      "[2021-09-20 17:06:32,300] [INFO] Pipeline: ['ner']\n",
      "[2021-09-20 17:06:32,304] [INFO] Created vocabulary\n",
      "[2021-09-20 17:06:32,844] [INFO] Added vectors: models/01\n",
      "[2021-09-20 17:06:32,859] [INFO] Finished initializing nlp object\n",
      "[2021-09-20 17:06:36,039] [INFO] Initialized pipeline components: ['ner']\n"
     ]
    }
   ],
   "source": [
    "!python -m spacy train models/01/config.cfg --output models/02 --paths.train data/train.spacy --paths.dev data/valid.spacy --paths.vectors models/01"
   ]
  },
  {
   "cell_type": "code",
   "execution_count": null,
   "id": "straight-egypt",
   "metadata": {},
   "outputs": [],
   "source": []
  }
 ],
 "metadata": {
  "kernelspec": {
   "display_name": "Python 3",
   "language": "python",
   "name": "python3"
  },
  "language_info": {
   "codemirror_mode": {
    "name": "ipython",
    "version": 3
   },
   "file_extension": ".py",
   "mimetype": "text/x-python",
   "name": "python",
   "nbconvert_exporter": "python",
   "pygments_lexer": "ipython3",
   "version": "3.9.2"
  }
 },
 "nbformat": 4,
 "nbformat_minor": 5
}
