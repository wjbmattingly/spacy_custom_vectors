{
 "cells": [
  {
   "cell_type": "code",
   "execution_count": 1,
   "id": "played-conjunction",
   "metadata": {},
   "outputs": [
    {
     "name": "stdout",
     "output_type": "stream",
     "text": [
      "INFO:tensorflow:Enabling eager execution\n",
      "INFO:tensorflow:Enabling v2 tensorshape\n",
      "INFO:tensorflow:Enabling resource variables\n",
      "INFO:tensorflow:Enabling tensor equality\n",
      "INFO:tensorflow:Enabling control flow v2\n"
     ]
    }
   ],
   "source": [
    "import spacy"
   ]
  },
  {
   "cell_type": "code",
   "execution_count": 3,
   "id": "chicken-albuquerque",
   "metadata": {},
   "outputs": [
    {
     "name": "stdout",
     "output_type": "stream",
     "text": [
      "[i] Creating blank nlp object for language 'en'\n",
      "[+] Successfully converted 32546 vectors\n",
      "[+] Saved nlp object with vectors to output directory. You can now use the path\n",
      "to it in your config as the 'vectors' setting in [initialize].\n",
      "C:\\Users\\wma22\\OneDrive\\Projects\\spacy_custom_vectors\\models\\01\n"
     ]
    },
    {
     "name": "stderr",
     "output_type": "stream",
     "text": [
      "2021-09-20 13:56:31.937486: I tensorflow/stream_executor/platform/default/dso_loader.cc:49] Successfully opened dynamic library cudart64_110.dll\n",
      "[2021-09-20 13:56:35,147] [INFO] Reading vectors from data\\word_vectors.txt\n",
      "\n",
      "0it [00:00, ?it/s]\n",
      "1470it [00:00, 14593.44it/s]\n",
      "2973it [00:00, 14786.13it/s]\n",
      "4483it [00:00, 14879.37it/s]\n",
      "5986it [00:00, 14895.81it/s]\n",
      "7476it [00:00, 14700.95it/s]\n",
      "8947it [00:00, 14666.28it/s]\n",
      "10430it [00:00, 14684.72it/s]\n",
      "11921it [00:00, 14723.32it/s]\n",
      "13408it [00:00, 14734.02it/s]\n",
      "14918it [00:01, 14812.59it/s]\n",
      "16473it [00:01, 15003.73it/s]\n",
      "17982it [00:01, 14996.95it/s]\n",
      "19514it [00:01, 15062.58it/s]\n",
      "21063it [00:01, 15156.20it/s]\n",
      "22604it [00:01, 15199.10it/s]\n",
      "24124it [00:01, 15077.75it/s]\n",
      "25632it [00:01, 14654.70it/s]\n",
      "27100it [00:01, 14379.57it/s]\n",
      "28541it [00:01, 14033.07it/s]\n",
      "29947it [00:02, 13812.03it/s]\n",
      "31330it [00:02, 13632.80it/s]\n",
      "32546it [00:02, 14522.95it/s]\n",
      "[2021-09-20 13:56:37,392] [INFO] Loaded vectors from data\\word_vectors.txt\n"
     ]
    }
   ],
   "source": [
    "!python -m spacy init vectors en data/word_vectors.txt models/01 --name en_test"
   ]
  },
  {
   "cell_type": "code",
   "execution_count": 5,
   "id": "irish-steering",
   "metadata": {},
   "outputs": [],
   "source": [
    "nlp = spacy.load(\"models/01\")"
   ]
  },
  {
   "cell_type": "code",
   "execution_count": 6,
   "id": "active-trial",
   "metadata": {},
   "outputs": [
    {
     "data": {
      "text/plain": [
       "<spacy.pipeline.ner.EntityRecognizer at 0x25311ea6100>"
      ]
     },
     "execution_count": 6,
     "metadata": {},
     "output_type": "execute_result"
    }
   ],
   "source": [
    "nlp.add_pipe(\"ner\")"
   ]
  },
  {
   "cell_type": "code",
   "execution_count": 7,
   "id": "pointed-arizona",
   "metadata": {},
   "outputs": [],
   "source": [
    "nlp.to_disk(\"models/01\")"
   ]
  },
  {
   "cell_type": "code",
   "execution_count": null,
   "id": "boring-reminder",
   "metadata": {},
   "outputs": [],
   "source": [
    "!python -m spacy train models/01/config.cfg --output models/02 --paths.train data/train.spacy --paths.dev data/valid.spacy --paths.vectors models/02"
   ]
  }
 ],
 "metadata": {
  "kernelspec": {
   "display_name": "Python 3",
   "language": "python",
   "name": "python3"
  },
  "language_info": {
   "codemirror_mode": {
    "name": "ipython",
    "version": 3
   },
   "file_extension": ".py",
   "mimetype": "text/x-python",
   "name": "python",
   "nbconvert_exporter": "python",
   "pygments_lexer": "ipython3",
   "version": "3.9.2"
  }
 },
 "nbformat": 4,
 "nbformat_minor": 5
}
